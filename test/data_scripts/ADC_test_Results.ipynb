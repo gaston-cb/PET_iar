{
 "cells": [
  {
   "cell_type": "markdown",
   "id": "29a81d2e-83dd-4f9b-af4d-bc4165d0f865",
   "metadata": {
    "slideshow": {
     "slide_type": ""
    },
    "tags": []
   },
   "source": [
    "# TC-ADC-I: TEST-ADC-VAL "
   ]
  },
  {
   "cell_type": "code",
   "execution_count": 19,
   "id": "950c2d40-d3ed-4c8a-b885-c22c970ea69b",
   "metadata": {
    "slideshow": {
     "slide_type": ""
    },
    "tags": []
   },
   "outputs": [
    {
     "name": "stdout",
     "output_type": "stream",
     "text": [
      "[0.5, 0.75, 1.0, 1.5, 2.0, 2.75, 3.3]\n",
      "[620, 930, 1241, 1861, 2482, 3413, 4096]\n"
     ]
    },
    {
     "ename": "ValueError",
     "evalue": "invalid shape in fixed-type tuple.",
     "output_type": "error",
     "traceback": [
      "\u001b[0;31m---------------------------------------------------------------------------\u001b[0m",
      "\u001b[0;31mValueError\u001b[0m                                Traceback (most recent call last)",
      "Cell \u001b[0;32mIn[19], line 28\u001b[0m\n\u001b[1;32m     26\u001b[0m path_files \u001b[38;5;241m=\u001b[39m \u001b[38;5;124m'\u001b[39m\u001b[38;5;124m../../../results/TC-I-ADC/TC-I-ADC-2.75.txt\u001b[39m\u001b[38;5;124m'\u001b[39m\n\u001b[1;32m     27\u001b[0m list_files_tcI\u001b[38;5;241m=\u001b[39m[\u001b[38;5;124m'\u001b[39m\u001b[38;5;124mTC-ADC-I-0.5.txt\u001b[39m\u001b[38;5;124m'\u001b[39m,\u001b[38;5;124m'\u001b[39m\u001b[38;5;124masdasd\u001b[39m\u001b[38;5;124m'\u001b[39m]\n\u001b[0;32m---> 28\u001b[0m a1 \u001b[38;5;241m=\u001b[39m \u001b[43mnp\u001b[49m\u001b[38;5;241;43m.\u001b[39;49m\u001b[43mgenfromtxt\u001b[49m\u001b[43m(\u001b[49m\u001b[43mpath_files\u001b[49m\u001b[43m,\u001b[49m\u001b[43mdelimiter\u001b[49m\u001b[43m \u001b[49m\u001b[38;5;241;43m=\u001b[39;49m\u001b[43m \u001b[49m\u001b[38;5;124;43m'\u001b[39;49m\u001b[38;5;124;43m,\u001b[39;49m\u001b[38;5;124;43m'\u001b[39;49m\u001b[43m,\u001b[49m\u001b[43mdtype\u001b[49m\u001b[38;5;241;43m=\u001b[39;49m\u001b[43m(\u001b[49m\u001b[38;5;28;43mint\u001b[39;49m\u001b[43m,\u001b[49m\u001b[38;5;28;43mhex\u001b[39;49m\u001b[43m)\u001b[49m\u001b[43m)\u001b[49m \n\u001b[1;32m     31\u001b[0m \u001b[38;5;28mprint\u001b[39m(a1) \n\u001b[1;32m     35\u001b[0m a \u001b[38;5;241m=\u001b[39m \u001b[38;5;241m25\u001b[39m \n",
      "File \u001b[0;32m~/Documents/PET/PET_iar/test/data_scripts/read_serial/lib/python3.11/site-packages/numpy/lib/npyio.py:2049\u001b[0m, in \u001b[0;36mgenfromtxt\u001b[0;34m(fname, dtype, comments, delimiter, skip_header, skip_footer, converters, missing_values, filling_values, usecols, names, excludelist, deletechars, replace_space, autostrip, case_sensitive, defaultfmt, unpack, usemask, loose, invalid_raise, max_rows, encoding, ndmin, like)\u001b[0m\n\u001b[1;32m   2047\u001b[0m \u001b[38;5;66;03m# Get the dtype\u001b[39;00m\n\u001b[1;32m   2048\u001b[0m \u001b[38;5;28;01mif\u001b[39;00m dtype \u001b[38;5;129;01mis\u001b[39;00m \u001b[38;5;129;01mnot\u001b[39;00m \u001b[38;5;28;01mNone\u001b[39;00m:\n\u001b[0;32m-> 2049\u001b[0m     dtype \u001b[38;5;241m=\u001b[39m \u001b[43measy_dtype\u001b[49m\u001b[43m(\u001b[49m\u001b[43mdtype\u001b[49m\u001b[43m,\u001b[49m\u001b[43m \u001b[49m\u001b[43mdefaultfmt\u001b[49m\u001b[38;5;241;43m=\u001b[39;49m\u001b[43mdefaultfmt\u001b[49m\u001b[43m,\u001b[49m\u001b[43m \u001b[49m\u001b[43mnames\u001b[49m\u001b[38;5;241;43m=\u001b[39;49m\u001b[43mnames\u001b[49m\u001b[43m,\u001b[49m\n\u001b[1;32m   2050\u001b[0m \u001b[43m                       \u001b[49m\u001b[43mexcludelist\u001b[49m\u001b[38;5;241;43m=\u001b[39;49m\u001b[43mexcludelist\u001b[49m\u001b[43m,\u001b[49m\n\u001b[1;32m   2051\u001b[0m \u001b[43m                       \u001b[49m\u001b[43mdeletechars\u001b[49m\u001b[38;5;241;43m=\u001b[39;49m\u001b[43mdeletechars\u001b[49m\u001b[43m,\u001b[49m\n\u001b[1;32m   2052\u001b[0m \u001b[43m                       \u001b[49m\u001b[43mcase_sensitive\u001b[49m\u001b[38;5;241;43m=\u001b[39;49m\u001b[43mcase_sensitive\u001b[49m\u001b[43m,\u001b[49m\n\u001b[1;32m   2053\u001b[0m \u001b[43m                       \u001b[49m\u001b[43mreplace_space\u001b[49m\u001b[38;5;241;43m=\u001b[39;49m\u001b[43mreplace_space\u001b[49m\u001b[43m)\u001b[49m\n\u001b[1;32m   2054\u001b[0m \u001b[38;5;66;03m# Make sure the names is a list (for 2.5)\u001b[39;00m\n\u001b[1;32m   2055\u001b[0m \u001b[38;5;28;01mif\u001b[39;00m names \u001b[38;5;129;01mis\u001b[39;00m \u001b[38;5;129;01mnot\u001b[39;00m \u001b[38;5;28;01mNone\u001b[39;00m:\n",
      "File \u001b[0;32m~/Documents/PET/PET_iar/test/data_scripts/read_serial/lib/python3.11/site-packages/numpy/lib/_iotools.py:861\u001b[0m, in \u001b[0;36measy_dtype\u001b[0;34m(ndtype, names, defaultfmt, **validationargs)\u001b[0m\n\u001b[1;32m    823\u001b[0m \u001b[38;5;250m\u001b[39m\u001b[38;5;124;03m\"\"\"\u001b[39;00m\n\u001b[1;32m    824\u001b[0m \u001b[38;5;124;03mConvenience function to create a `np.dtype` object.\u001b[39;00m\n\u001b[1;32m    825\u001b[0m \n\u001b[0;32m   (...)\u001b[0m\n\u001b[1;32m    858\u001b[0m \n\u001b[1;32m    859\u001b[0m \u001b[38;5;124;03m\"\"\"\u001b[39;00m\n\u001b[1;32m    860\u001b[0m \u001b[38;5;28;01mtry\u001b[39;00m:\n\u001b[0;32m--> 861\u001b[0m     ndtype \u001b[38;5;241m=\u001b[39m \u001b[43mnp\u001b[49m\u001b[38;5;241;43m.\u001b[39;49m\u001b[43mdtype\u001b[49m\u001b[43m(\u001b[49m\u001b[43mndtype\u001b[49m\u001b[43m)\u001b[49m\n\u001b[1;32m    862\u001b[0m \u001b[38;5;28;01mexcept\u001b[39;00m \u001b[38;5;167;01mTypeError\u001b[39;00m:\n\u001b[1;32m    863\u001b[0m     validate \u001b[38;5;241m=\u001b[39m NameValidator(\u001b[38;5;241m*\u001b[39m\u001b[38;5;241m*\u001b[39mvalidationargs)\n",
      "\u001b[0;31mValueError\u001b[0m: invalid shape in fixed-type tuple."
     ]
    }
   ],
   "source": [
    "from IPython.display import Markdown as md\n",
    "import numpy as np \n",
    "### 0.5v fuente - Tester 0.501v  \n",
    "### 0.75 fuente - Tester 0.752v \n",
    "### 1.0  fuente - Tester 1.003v \n",
    "### 1.5  fuente - Tester 1.504v \n",
    "### 2.0  fuente - Tester 2.000v\n",
    "### 2.75 fuente - Tester 2.750v\n",
    "### 3.3. fuente - Tester 3.300v \n",
    "voltage_test_measure_tester = [0.501,0.752,1.003,1.504]\n",
    "voltage_test = [0.5,0.75,1.0,1.5,2.0,2.75,3.3]\n",
    "voltage_adc_teor=[]\n",
    "voltage_adc_measure=[]\n",
    "NBITS = 12 \n",
    "MAX = 2**NBITS\n",
    "VOLTAGE_MAX = 3.3 \n",
    "for volt in voltage_test: \n",
    "    voltage_adc_teor.append(int((MAX/VOLTAGE_MAX)*volt))\n",
    "\n",
    "print(voltage_test) \n",
    "print(voltage_adc_teor)\n",
    "\n",
    "\n",
    "\n",
    "##READ_FILE \n",
    "path_files = '../../../results/TC-I-ADC/TC-I-ADC-2.75.txt'\n",
    "list_files_tcI=['TC-ADC-I-0.5.txt','asdasd']\n",
    "a1 = np.genfromtxt(path_files,delimiter = ',',dtype=(int,hex)) \n",
    "\n",
    "\n",
    "print(a1) \n",
    "\n",
    "\n",
    "\n",
    "a = 25 \n",
    "##SAVE IMAGE  \n",
    "\n",
    "\n",
    "\n",
    "\n",
    "\n"
   ]
  },
  {
   "cell_type": "code",
   "execution_count": 22,
   "id": "6023d5a1",
   "metadata": {
    "slideshow": {
     "slide_type": ""
    },
    "tags": [],
    "variables": {
     "b": "25",
     "c": "33.656"
    }
   },
   "outputs": [
    {
     "data": {
      "text/html": [
       "\n",
       "<style type=\"text/css\">\n",
       ".tg  {border-collapse:collapse;border-spacing:25;}\n",
       ".tg td{border-color:black;border-style:solid;border-width:1px;font-family:Arial, sans-serif;font-size:35px;\n",
       "  overflow:hidden;padding:10px 5px;word-break:normal;}\n",
       ".tg th{border-color:black;border-style:solid;border-width:1px;font-family:Arial, sans-serif;font-size:14px;\n",
       "  font-weight:normal;overflow:hidden;padding:10px 5px;word-break:normal;}\n",
       ".tg .tg-bq5v{border-color:inherit;font-size:28px;text-align:left;vertical-align:top}\n",
       "</style>\n",
       "<table class=\"tg\">\n",
       "<thead>\n",
       "  <tr>\n",
       "    <th class=\"tg-bq5v\" colspan=\"3\">hola</th>\n",
       "    <th class=\"tg-bq5v\">a</th>\n",
       "    <th class=\"tg-bq5v\">b</th>\n",
       "  </tr>\n",
       "</thead>\n",
       "<tbody>\n",
       "  <tr>\n",
       "    <td class=\"tg-bq5v\">c</td>\n",
       "    <td class=\"tg-bq5v\">25</td>\n",
       "    <td class=\"tg-bq5v\">25</td>\n",
       "    <td class=\"tg-bq5v\">c</td>\n",
       "    <td class=\"tg-bq5v\">as</td>\n",
       "  </tr>\n",
       "  <tr>\n",
       "    <td class=\"tg-bq5v\">as</td>\n",
       "    <td class=\"tg-bq5v\">as</td>\n",
       "    <td class=\"tg-bq5v\">as</td>\n",
       "    <td class=\"tg-bq5v\">as</td>\n",
       "    <td class=\"tg-bq5v\">as</td>\n",
       "  </tr>\n",
       "</tbody>\n",
       "</table>"
      ],
      "text/plain": [
       "<IPython.core.display.HTML object>"
      ]
     },
     "execution_count": 22,
     "metadata": {},
     "output_type": "execute_result"
    }
   ],
   "source": [
    "\n",
    "from IPython.display import HTML\n",
    "\n",
    "html_code =\"\"\"\n",
    "<style type=\"text/css\">\n",
    ".tg  {border-collapse:collapse;border-spacing:25;}\n",
    ".tg td{border-color:black;border-style:solid;border-width:1px;font-family:Arial, sans-serif;font-size:35px;\n",
    "  overflow:hidden;padding:10px 5px;word-break:normal;}\n",
    ".tg th{border-color:black;border-style:solid;border-width:1px;font-family:Arial, sans-serif;font-size:14px;\n",
    "  font-weight:normal;overflow:hidden;padding:10px 5px;word-break:normal;}\n",
    ".tg .tg-bq5v{border-color:inherit;font-size:28px;text-align:left;vertical-align:top}\n",
    "</style>\n",
    "<table class=\"tg\">\n",
    "<thead>\n",
    "  <tr>\n",
    "    <th class=\"tg-bq5v\" colspan=\"3\">hola</th>\n",
    "    <th class=\"tg-bq5v\">a</th>\n",
    "    <th class=\"tg-bq5v\">b</th>\n",
    "  </tr>\n",
    "</thead>\n",
    "<tbody>\n",
    "  <tr>\n",
    "    <td class=\"tg-bq5v\">c</td>\n",
    "    <td class=\"tg-bq5v\">%s</td>\n",
    "    <td class=\"tg-bq5v\">%s</td>\n",
    "    <td class=\"tg-bq5v\">c</td>\n",
    "    <td class=\"tg-bq5v\">as</td>\n",
    "  </tr>\n",
    "  <tr>\n",
    "    <td class=\"tg-bq5v\">as</td>\n",
    "    <td class=\"tg-bq5v\">as</td>\n",
    "    <td class=\"tg-bq5v\">as</td>\n",
    "    <td class=\"tg-bq5v\">as</td>\n",
    "    <td class=\"tg-bq5v\">as</td>\n",
    "  </tr>\n",
    "</tbody>\n",
    "</table>\"\"\" %(a,b)  \n",
    "\n",
    "HTML(html_code)"
   ]
  },
  {
   "cell_type": "markdown",
   "id": "5004e33b-b7f1-42ea-a4c6-799b65f05aef",
   "metadata": {
    "slideshow": {
     "slide_type": ""
    },
    "tags": [],
    "variables": {
     "a": "33.2"
    }
   },
   "source": [
    "{{a}}"
   ]
  },
  {
   "cell_type": "markdown",
   "id": "02817abc-ffb7-4e9f-a155-4d8598c7c92c",
   "metadata": {
    "slideshow": {
     "slide_type": ""
    },
    "tags": []
   },
   "source": [
    "# TC-ADC-II: Test reference "
   ]
  },
  {
   "cell_type": "code",
   "execution_count": null,
   "id": "20d0245e-52f9-4e36-beed-a612092292ac",
   "metadata": {},
   "outputs": [],
   "source": []
  },
  {
   "cell_type": "code",
   "execution_count": null,
   "id": "d35202ee-1e57-4fa3-afdb-8d33ebf64ecd",
   "metadata": {},
   "outputs": [],
   "source": [
    "# VALIDACIÓN DEL ANGULO \n"
   ]
  },
  {
   "cell_type": "code",
   "execution_count": null,
   "id": "98a96a10-dd74-40a6-953e-10d2302aeb7e",
   "metadata": {},
   "outputs": [],
   "source": []
  }
 ],
 "metadata": {
  "kernelspec": {
   "display_name": "Python 3 (ipykernel)",
   "language": "python",
   "name": "python3"
  },
  "language_info": {
   "codemirror_mode": {
    "name": "ipython",
    "version": 3
   },
   "file_extension": ".py",
   "mimetype": "text/x-python",
   "name": "python",
   "nbconvert_exporter": "python",
   "pygments_lexer": "ipython3",
   "version": "3.11.2"
  }
 },
 "nbformat": 4,
 "nbformat_minor": 5
}
