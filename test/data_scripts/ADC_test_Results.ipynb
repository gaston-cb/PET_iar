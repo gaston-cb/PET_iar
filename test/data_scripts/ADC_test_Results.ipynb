{
 "cells": [
  {
   "cell_type": "markdown",
   "id": "29a81d2e-83dd-4f9b-af4d-bc4165d0f865",
   "metadata": {
    "slideshow": {
     "slide_type": ""
    },
    "tags": []
   },
   "source": [
    "# TC-ADC-I: TEST-ADC-VAL "
   ]
  },
  {
   "cell_type": "code",
   "execution_count": 12,
   "id": "950c2d40-d3ed-4c8a-b885-c22c970ea69b",
   "metadata": {
    "slideshow": {
     "slide_type": ""
    },
    "tags": []
   },
   "outputs": [],
   "source": [
    "from IPython.display import Markdown as md\n",
    "\n",
    "SAVE_IMAGE_PATH =''\n",
    "NAME_SAVES_IMAGE = '' \n",
    "PATH_TC_ADC_I=''\n",
    "LOAD_FILE_TC_ADC_I=[] \n",
    "##READ_FILE \n",
    "a = 25 \n",
    "##SAVE IMAGE  \n",
    "\n",
    "\n",
    "a = 33.2 \n",
    "b = 25 \n",
    "c = 33.656 "
   ]
  },
  {
   "cell_type": "code",
   "execution_count": 28,
   "id": "6023d5a1",
   "metadata": {
    "slideshow": {
     "slide_type": ""
    },
    "tags": [],
    "variables": {
     "b": "25",
     "c": "33.656"
    }
   },
   "outputs": [
    {
     "data": {
      "text/html": [
       "\n",
       "<style type=\"text/css\">\n",
       ".tg  {border-collapse:collapse;border-spacing:25;}\n",
       ".tg td{border-color:black;border-style:solid;border-width:1px;font-family:Arial, sans-serif;font-size:35px;\n",
       "  overflow:hidden;padding:10px 5px;word-break:normal;}\n",
       ".tg th{border-color:black;border-style:solid;border-width:1px;font-family:Arial, sans-serif;font-size:14px;\n",
       "  font-weight:normal;overflow:hidden;padding:10px 5px;word-break:normal;}\n",
       ".tg .tg-bq5v{border-color:inherit;font-size:28px;text-align:left;vertical-align:top}\n",
       "</style>\n",
       "<table class=\"tg\">\n",
       "<thead>\n",
       "  <tr>\n",
       "    <th class=\"tg-bq5v\" colspan=\"3\">hola</th>\n",
       "    <th class=\"tg-bq5v\">a</th>\n",
       "    <th class=\"tg-bq5v\">b</th>\n",
       "  </tr>\n",
       "</thead>\n",
       "<tbody>\n",
       "  <tr>\n",
       "    <td class=\"tg-bq5v\">c</td>\n",
       "    <td class=\"tg-bq5v\">33.2</td>\n",
       "    <td class=\"tg-bq5v\">25</td>\n",
       "    <td class=\"tg-bq5v\">c</td>\n",
       "    <td class=\"tg-bq5v\">as</td>\n",
       "  </tr>\n",
       "  <tr>\n",
       "    <td class=\"tg-bq5v\">as</td>\n",
       "    <td class=\"tg-bq5v\">as</td>\n",
       "    <td class=\"tg-bq5v\">as</td>\n",
       "    <td class=\"tg-bq5v\">as</td>\n",
       "    <td class=\"tg-bq5v\">as</td>\n",
       "  </tr>\n",
       "</tbody>\n",
       "</table>"
      ],
      "text/plain": [
       "<IPython.core.display.HTML object>"
      ]
     },
     "execution_count": 28,
     "metadata": {},
     "output_type": "execute_result"
    }
   ],
   "source": [
    "\n",
    "from IPython.display import HTML\n",
    "\n",
    "html_code =\"\"\"\n",
    "<style type=\"text/css\">\n",
    ".tg  {border-collapse:collapse;border-spacing:25;}\n",
    ".tg td{border-color:black;border-style:solid;border-width:1px;font-family:Arial, sans-serif;font-size:35px;\n",
    "  overflow:hidden;padding:10px 5px;word-break:normal;}\n",
    ".tg th{border-color:black;border-style:solid;border-width:1px;font-family:Arial, sans-serif;font-size:14px;\n",
    "  font-weight:normal;overflow:hidden;padding:10px 5px;word-break:normal;}\n",
    ".tg .tg-bq5v{border-color:inherit;font-size:28px;text-align:left;vertical-align:top}\n",
    "</style>\n",
    "<table class=\"tg\">\n",
    "<thead>\n",
    "  <tr>\n",
    "    <th class=\"tg-bq5v\" colspan=\"3\">hola</th>\n",
    "    <th class=\"tg-bq5v\">a</th>\n",
    "    <th class=\"tg-bq5v\">b</th>\n",
    "  </tr>\n",
    "</thead>\n",
    "<tbody>\n",
    "  <tr>\n",
    "    <td class=\"tg-bq5v\">c</td>\n",
    "    <td class=\"tg-bq5v\">%s</td>\n",
    "    <td class=\"tg-bq5v\">%s</td>\n",
    "    <td class=\"tg-bq5v\">c</td>\n",
    "    <td class=\"tg-bq5v\">as</td>\n",
    "  </tr>\n",
    "  <tr>\n",
    "    <td class=\"tg-bq5v\">as</td>\n",
    "    <td class=\"tg-bq5v\">as</td>\n",
    "    <td class=\"tg-bq5v\">as</td>\n",
    "    <td class=\"tg-bq5v\">as</td>\n",
    "    <td class=\"tg-bq5v\">as</td>\n",
    "  </tr>\n",
    "</tbody>\n",
    "</table>\"\"\" %(a,b)  \n",
    "\n",
    "HTML(html_code)"
   ]
  },
  {
   "cell_type": "markdown",
   "id": "5004e33b-b7f1-42ea-a4c6-799b65f05aef",
   "metadata": {
    "slideshow": {
     "slide_type": ""
    },
    "tags": [],
    "variables": {
     "a": "33.2"
    }
   },
   "source": [
    "{{a}}"
   ]
  },
  {
   "cell_type": "markdown",
   "id": "02817abc-ffb7-4e9f-a155-4d8598c7c92c",
   "metadata": {
    "slideshow": {
     "slide_type": ""
    },
    "tags": []
   },
   "source": [
    "# TC-ADC-II: Test reference "
   ]
  },
  {
   "cell_type": "code",
   "execution_count": null,
   "id": "20d0245e-52f9-4e36-beed-a612092292ac",
   "metadata": {},
   "outputs": [],
   "source": []
  },
  {
   "cell_type": "code",
   "execution_count": null,
   "id": "d35202ee-1e57-4fa3-afdb-8d33ebf64ecd",
   "metadata": {},
   "outputs": [],
   "source": [
    "# VALIDACIÓN DEL ANGULO \n"
   ]
  }
 ],
 "metadata": {
  "kernelspec": {
   "display_name": "Python 3 (ipykernel)",
   "language": "python",
   "name": "python3"
  },
  "language_info": {
   "codemirror_mode": {
    "name": "ipython",
    "version": 3
   },
   "file_extension": ".py",
   "mimetype": "text/x-python",
   "name": "python",
   "nbconvert_exporter": "python",
   "pygments_lexer": "ipython3",
   "version": "3.11.2"
  }
 },
 "nbformat": 4,
 "nbformat_minor": 5
}
